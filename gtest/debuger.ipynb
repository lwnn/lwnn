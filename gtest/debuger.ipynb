{
 "cells": [
  {
   "cell_type": "code",
   "execution_count": null,
   "metadata": {},
   "outputs": [],
   "source": [
    "import sys\n",
    "import os\n",
    "import re\n",
    "LWNN=os.path.abspath('..')\n",
    "if(not os.path.isfile('%s/Console.bat'%(LWNN))):\n",
    "    LWNN=os.path.abspath('.')\n",
    "p=os.path.abspath('%s/tools'%(LWNN))\n",
    "sys.path.append(p)\n",
    "import numpy as np\n",
    "import glob\n",
    "import keras\n",
    "from keras.models import Sequential, Model, load_model\n",
    "from keras.layers import *\n",
    "from verifyoutput import *\n",
    "%matplotlib inline"
   ]
  },
  {
   "cell_type": "markdown",
   "metadata": {},
   "source": [
    "For the gtest Concat, the case concat_1 is the first one, so can run below command to generate the output raw of each layer of its LWNN model.\n",
    "```sh\n",
    "rm tmp -fr\n",
    "lwnn_gtest.exe --gtest_filter=*CPU.ConcatQ8* -m 0 -d\n",
    "```"
   ]
  },
  {
   "cell_type": "code",
   "execution_count": null,
   "metadata": {},
   "outputs": [],
   "source": [
    "CASE='concat_1'"
   ]
  },
  {
   "cell_type": "code",
   "execution_count": null,
   "metadata": {},
   "outputs": [],
   "source": [
    "MODEL = '%s/gtest/models/%s/%s.h5'%(LWNN,CASE,CASE)\n",
    "INPUT = '%s/gtest/models/%s/golden/input.raw'%(LWNN,CASE)\n",
    "TMP= '%s/tmp'%(LWNN)"
   ]
  },
  {
   "cell_type": "code",
   "execution_count": null,
   "metadata": {},
   "outputs": [],
   "source": [
    "model = load_model(MODEL)"
   ]
  },
  {
   "cell_type": "code",
   "execution_count": null,
   "metadata": {},
   "outputs": [],
   "source": [
    "shape=[-1]+[eval(str(d)) for d in model.input.shape[1:]]"
   ]
  },
  {
   "cell_type": "code",
   "execution_count": null,
   "metadata": {},
   "outputs": [],
   "source": [
    "data = np.fromfile(INPUT, dtype=np.float32).reshape(shape)\n",
    "if(data.shape[0] > 1):\n",
    "    data = data[0].reshape(shape)"
   ]
  },
  {
   "cell_type": "code",
   "execution_count": null,
   "metadata": {
    "scrolled": false
   },
   "outputs": [],
   "source": [
    "reLoadName = re.compile(r'([^\\s]+)_(\\d+)_(\\d+)')\n",
    "reQ = re.compile(r'-Q(\\d+|-\\d+)')\n",
    "reS = re.compile(r'-S(\\d+|-\\d+)')\n",
    "reZ = re.compile(r'-Z(\\d+|-\\d+)')\n",
    "for layer in model.layers:\n",
    "    if(type(layer) == keras.engine.input_layer.InputLayer):\n",
    "        outR = data\n",
    "    else:\n",
    "        layer_model = Model(inputs=model.input, outputs=layer.output)\n",
    "        outR = layer_model.predict(data)\n",
    "    name=layer.name\n",
    "    if('batch_normalization' in name):\n",
    "        name = layer.input.name\n",
    "        name = name.split('/')[0]\n",
    "        if(reLoadName.search(name)):\n",
    "            grp = reLoadName.search(name).groups()\n",
    "            name = '_'.join(grp[:-1])\n",
    "    rawL = glob.glob('%s/%s*%s*.raw'%(TMP,CASE,name))\n",
    "    if(len(rawL) > 0):\n",
    "        raw = rawL[0]\n",
    "        if('q8' in raw):\n",
    "            name += '-q8'\n",
    "            out = np.fromfile(raw, dtype=np.int8).astype(np.float32)\n",
    "        elif('s8' in raw):\n",
    "            name += '-s8'\n",
    "            out = np.fromfile(raw, dtype=np.int8).astype(np.float32)\n",
    "        elif('q16' in raw):\n",
    "            name += '-q16'\n",
    "            out = np.fromfile(raw, dtype=np.int16).astype(np.float32)\n",
    "        else:\n",
    "            out = np.fromfile(raw, dtype=np.float32)\n",
    "        if('-Q' in raw):\n",
    "            Q = eval(reQ.search(raw).groups()[0])\n",
    "            name += '-Q%s'%(Q)\n",
    "            if(reZ.search(raw)):\n",
    "                Z = eval(reZ.search(raw).groups()[0])\n",
    "                name += '-Z%s'%(Z)\n",
    "            else:\n",
    "                Z = 0\n",
    "            if(reS.search(raw)):\n",
    "                S = eval(reS.search(raw).groups()[0])/(1<<16)\n",
    "                name += '-S%.2f'%(S)\n",
    "            else:\n",
    "                S = 1\n",
    "            out = S*(out+Z)/(2**Q)\n",
    "            out = out.astype(np.float32)\n",
    "        if(layer.name not in name):\n",
    "            name = '%s-%s'%(layer.name,name)\n",
    "        name = name.replace('output', '')\n",
    "        compare(outR, out, name)\n",
    "    else:\n",
    "        print('skip', layer.name)"
   ]
  },
  {
   "cell_type": "code",
   "execution_count": null,
   "metadata": {},
   "outputs": [],
   "source": []
  }
 ],
 "metadata": {
  "kernelspec": {
   "display_name": "Python 3",
   "language": "python",
   "name": "python3"
  },
  "language_info": {
   "codemirror_mode": {
    "name": "ipython",
    "version": 3
   },
   "file_extension": ".py",
   "mimetype": "text/x-python",
   "name": "python",
   "nbconvert_exporter": "python",
   "pygments_lexer": "ipython3",
   "version": "3.6.7"
  }
 },
 "nbformat": 4,
 "nbformat_minor": 2
}
